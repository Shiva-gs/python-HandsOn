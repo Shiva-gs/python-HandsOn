{
 "cells": [
  {
   "cell_type": "code",
   "execution_count": 28,
   "metadata": {},
   "outputs": [],
   "source": [
    "# Dependencies\n",
    "import os\n",
    "from bs4 import BeautifulSoup as bs\n",
    "from splinter import Browser\n",
    "import pandas as pd\n",
    "import time "
   ]
  },
  {
   "cell_type": "code",
   "execution_count": 29,
   "metadata": {},
   "outputs": [],
   "source": [
    "# Get the driver and set the executable path\n",
    "executable_path = {\"executable_path\": \"/Users/shiva/downloads/chromedriver\"}\n",
    "browser = Browser(\"chrome\", **executable_path, headless=False)"
   ]
  },
  {
   "cell_type": "code",
   "execution_count": 30,
   "metadata": {},
   "outputs": [],
   "source": [
    "# visit mars url - mission starts\n",
    "url = \"https://mars.nasa.gov/news/\"\n",
    "browser.visit(url)\n"
   ]
  },
  {
   "cell_type": "code",
   "execution_count": 4,
   "metadata": {},
   "outputs": [
    {
     "name": "stdout",
     "output_type": "stream",
     "text": [
      "### NASA Mars News\n"
     ]
    }
   ],
   "source": [
    "### NASA Mars News\n",
    "print('### NASA Mars News')"
   ]
  },
  {
   "cell_type": "code",
   "execution_count": 31,
   "metadata": {},
   "outputs": [
    {
     "name": "stdout",
     "output_type": "stream",
     "text": [
      "October 18, 2019\n",
      "Mars 2020 Unwrapped and Ready for More Testing\n",
      "In time-lapse video, bunny-suited engineers remove the inner layer of protective foil on NASA's Mars 2020 rover after it was relocated for testing.\n"
     ]
    }
   ],
   "source": [
    "# collect the latest News Title and Paragraph Text\n",
    "## Example:\n",
    "# news_title = \"NASA's Next Mars Mission to Investigate Interior of Red Planet\" \n",
    "html=browser.html\n",
    "soup = bs(html, 'html.parser')\n",
    "\n",
    "latest_news = soup.find(\"div\", class_=\"list_text\")\n",
    "news_p = latest_news.find(\"div\", class_=\"article_teaser_body\").text\n",
    "news_title = latest_news.find(\"div\", class_=\"content_title\").text\n",
    "news_date = latest_news.find(\"div\", class_=\"list_date\").text\n",
    "print(news_date)\n",
    "print(news_title)\n",
    "print(news_p)"
   ]
  },
  {
   "cell_type": "code",
   "execution_count": 13,
   "metadata": {},
   "outputs": [
    {
     "name": "stdout",
     "output_type": "stream",
     "text": [
      "### JPL Mars Space Images - Featured Image\n"
     ]
    }
   ],
   "source": [
    "print(\"### JPL Mars Space Images - Featured Image\")"
   ]
  },
  {
   "cell_type": "code",
   "execution_count": 32,
   "metadata": {},
   "outputs": [],
   "source": [
    "# visit the image url\n",
    "jpl_url= \"https://www.jpl.nasa.gov/spaceimages/?search=&category=Mars\"\n",
    "browser.visit(jpl_url)\n",
    "html = browser.html"
   ]
  },
  {
   "cell_type": "code",
   "execution_count": 33,
   "metadata": {},
   "outputs": [
    {
     "name": "stdout",
     "output_type": "stream",
     "text": [
      "<div class=\"img\">\n",
      "<img alt=\"Pinning Helps the Mole Move\" class=\"thumb\" src=\"/spaceimages/images/wallpaper/PIA23379-640x350.jpg\" title=\"Pinning Helps the Mole Move\"/>\n",
      "</div>\n",
      "<img alt=\"Pinning Helps the Mole Move\" class=\"thumb\" src=\"/spaceimages/images/wallpaper/PIA23379-640x350.jpg\" title=\"Pinning Helps the Mole Move\"/>\n",
      "/spaceimages/images/wallpaper/PIA23379-640x350.jpg\n",
      "***************************\n",
      "featured_image_url https://www.jpl.nasa.gov//spaceimages/images/wallpaper/PIA23379-640x350.jpg\n"
     ]
    }
   ],
   "source": [
    "# Use splinter to navigate the site and find the image url for the current Featured Mars Image\n",
    "# Example: featured_image_url = 'https://www.jpl.nasa.gov/spaceimages/images/largesize/PIA16225_hires.jpg'\n",
    "# find the image url \n",
    "# right click on the image and inspect get the div name\n",
    "soup = bs(html, 'html.parser')\n",
    "img_div= soup.find(\"div\", class_=\"img\")\n",
    "print(img_div)\n",
    "img_div= soup.find(\"img\", class_=\"thumb\")\n",
    "print(img_div)\n",
    "\n",
    "# get the src\n",
    "img_src= soup.find(\"img\", class_=\"thumb\")[\"src\"]\n",
    "print(img_src)\n",
    "featured_image_url = \"https://www.jpl.nasa.gov/\"+img_src\n",
    "print(\"***************************\")\n",
    "print (\"featured_image_url \"+featured_image_url )\n",
    "# get the url for the image\n",
    "#img_link = img_div.find(\"img\", class_=\"thumb\").text\n",
    "#print(img_link)"
   ]
  },
  {
   "cell_type": "code",
   "execution_count": 49,
   "metadata": {},
   "outputs": [
    {
     "name": "stdout",
     "output_type": "stream",
     "text": [
      "### Mars Weather\n"
     ]
    }
   ],
   "source": [
    "print('### Mars Weather')"
   ]
  },
  {
   "cell_type": "code",
   "execution_count": 34,
   "metadata": {},
   "outputs": [],
   "source": [
    "# Visit the Mars Weather twitter account \n",
    "# https://twitter.com/marswxreport?lang=en\n",
    "twit_url= \"https://twitter.com/marswxreport?lang=en\"\n",
    "browser.visit(twit_url)\n",
    "html = browser.html"
   ]
  },
  {
   "cell_type": "code",
   "execution_count": 35,
   "metadata": {},
   "outputs": [
    {
     "name": "stdout",
     "output_type": "stream",
     "text": [
      "InSight sol 317 (2019-10-18) low -103.2ºC (-153.8ºF) high -26.2ºC (-15.2ºF)\n",
      "winds from the SSE at 5.6 m/s (12.5 mph) gusting to 22.2 m/s (49.7 mph)\n",
      "pressure at 7.10 hPapic.twitter.com/LNDEvGwVDw\n"
     ]
    }
   ],
   "source": [
    "soup = bs(html, 'html.parser')\n",
    "# scrape the latest Mars weather tweet from the page. Save the tweet text\n",
    "# Example: mars_weather = 'Sol 1801 (Aug 30, 2017), Sunny, high -21C/-5F, low -80C/-112F, pressure at 8.82 hPa\n",
    "\n",
    "weather_div= soup.find(\"div\", class_=\"js-tweet-text-container\")\n",
    "print(weather_div.p.text)\n",
    "\n",
    "# assign it to variable\n",
    "mars_weather = weather_div.p.text"
   ]
  },
  {
   "cell_type": "code",
   "execution_count": 57,
   "metadata": {},
   "outputs": [
    {
     "name": "stdout",
     "output_type": "stream",
     "text": [
      "### Mars Facts\n"
     ]
    }
   ],
   "source": [
    "print(\"### Mars Facts\")"
   ]
  },
  {
   "cell_type": "code",
   "execution_count": 36,
   "metadata": {},
   "outputs": [],
   "source": [
    "# Visit the Mars Facts webpage\n",
    "fact_url = \"https://space-facts.com/mars/\"\n",
    "browser.visit(fact_url)\n",
    "html = browser.html\n",
    "soup = bs(html, 'html.parser')"
   ]
  },
  {
   "cell_type": "code",
   "execution_count": 43,
   "metadata": {},
   "outputs": [
    {
     "name": "stdout",
     "output_type": "stream",
     "text": [
      "Mars Planet Profile\n",
      "Equatorial Diameter:6,792 km\n",
      "Polar Diameter:6,752 km\n",
      "Mass:6.39 × 10^23 kg (0.11 Earths)\n",
      "Moons:2 (Phobos & Deimos)\n",
      "Orbit Distance:227,943,824 km (1.38 AU)\n",
      "Orbit Period:687 days (1.9 years)\n",
      "Surface Temperature: -87 to -5 °C\n",
      "First Record:2nd millennium BC\n",
      "Recorded By:Egyptian astronomers\n"
     ]
    },
    {
     "data": {
      "text/plain": [
       "['Equatorial Diameter:6,792 km',\n",
       " 'Polar Diameter:6,752 km',\n",
       " 'Mass:6.39 × 10^23 kg (0.11 Earths)',\n",
       " 'Moons:2 (Phobos & Deimos)',\n",
       " 'Orbit Distance:227,943,824 km (1.38 AU)',\n",
       " 'Orbit Period:687 days (1.9 years)',\n",
       " 'Surface Temperature: -87 to -5 °C',\n",
       " 'First Record:2nd millennium BC',\n",
       " 'Recorded By:Egyptian astronomers']"
      ]
     },
     "execution_count": 43,
     "metadata": {},
     "output_type": "execute_result"
    }
   ],
   "source": [
    "# get the facts \n",
    "fact_header = soup.find(\"div\", class_=\"widget-header\")\n",
    "print(fact_header.h3.text)\n",
    "\n",
    "fact_data = soup.find(\"table\", class_=\"tablepress tablepress-id-p-mars\")\n",
    "\n",
    "# find all rows\n",
    "rows = fact_data.find_all('tr')\n",
    "fact=[]\n",
    "for row in rows:\n",
    "    print(row.text)\n",
    "    fact.append(row.text)\n",
    "\n",
    "# assign it to pandas\n",
    "mars_data=pd.DataFrame()\n",
    "mars_data=pd.read_html(fact_url)\n",
    "mars_data[0]\n",
    "ms_df=mars_data[1]\n",
    "fact \n",
    " "
   ]
  },
  {
   "cell_type": "code",
   "execution_count": 100,
   "metadata": {},
   "outputs": [
    {
     "name": "stdout",
     "output_type": "stream",
     "text": [
      "### Mars Hemispheres\n"
     ]
    }
   ],
   "source": [
    "print(\"### Mars Hemispheres\")"
   ]
  },
  {
   "cell_type": "code",
   "execution_count": 21,
   "metadata": {},
   "outputs": [],
   "source": [
    "# Visit the USGS Astrogeology site \n",
    "#[here](https://astrogeology.usgs.gov/search/results?q=hemisphere+enhanced&k1=target&v1=Mars)\n",
    "astro_url = \"https://astrogeology.usgs.gov/search/results?q=hemisphere+enhanced&k1=target&v1=Mars\"\n",
    "browser.visit(astro_url)\n",
    "html = browser.html\n",
    "soup = bs(html, 'html.parser')"
   ]
  },
  {
   "cell_type": "code",
   "execution_count": 22,
   "metadata": {},
   "outputs": [
    {
     "name": "stdout",
     "output_type": "stream",
     "text": [
      "<h3>Cerberus Hemisphere Enhanced</h3>\n",
      "<splinter.driver.webdriver.WebDriverElement object at 0x117ce7fd0>\n",
      "<splinter.driver.webdriver.WebDriverElement object at 0x117f36ac8>\n",
      "<splinter.driver.webdriver.WebDriverElement object at 0x116aa4e48>\n",
      "<splinter.driver.webdriver.WebDriverElement object at 0x117f7c2e8>\n"
     ]
    },
    {
     "data": {
      "text/plain": [
       "[{'title': 'Cerberus Hemisphere Enhanced',\n",
       "  'img_url': 'https://astrogeology.usgs.gov/cache/images/cfa62af2557222a02478f1fcd781d445_cerberus_enhanced.tif_full.jpg'},\n",
       " {'title': 'Schiaparelli Hemisphere Enhanced',\n",
       "  'img_url': 'https://astrogeology.usgs.gov/cache/images/3cdd1cbf5e0813bba925c9030d13b62e_schiaparelli_enhanced.tif_full.jpg'},\n",
       " {'title': 'Syrtis Major Hemisphere Enhanced',\n",
       "  'img_url': 'https://astrogeology.usgs.gov/cache/images/ae209b4e408bb6c3e67b6af38168cf28_syrtis_major_enhanced.tif_full.jpg'},\n",
       " {'title': 'Valles Marineris Hemisphere Enhanced',\n",
       "  'img_url': 'https://astrogeology.usgs.gov/cache/images/7cf2da4bf549ed01c17f206327be4db7_valles_marineris_enhanced.tif_full.jpg'}]"
      ]
     },
     "execution_count": 22,
     "metadata": {},
     "output_type": "execute_result"
    }
   ],
   "source": [
    "# You will need to click each of the links to the hemispheres \n",
    "# in order to find the image url to the full resolution image\n",
    "\n",
    "astro_data = soup.find(\"div\", class_=\"item\")\n",
    "astro_link = astro_data.find(\"div\", class_=\"description\")\n",
    "print(astro_link.h3)\n",
    "#astro_link.h3.click()\n",
    "astro_link = browser.find_by_tag('h3')\n",
    "len(astro_link)\n",
    "mars_data =[]\n",
    "\n",
    "for i in range(len(astro_link)):\n",
    "    print(astro_link[i])\n",
    "    astro_link = browser.find_by_tag('h3')\n",
    "    \n",
    "    time.sleep(3)\n",
    "    astro_link[i].click()\n",
    "    html = browser.html\n",
    "    \n",
    "    soup = bs(html, 'html.parser')\n",
    "    partial = soup.find(\"img\", class_=\"wide-image\")[\"src\"]\n",
    "    img_title = soup.find(\"h2\",class_=\"title\").text\n",
    "    \n",
    "    img_url = 'https://astrogeology.usgs.gov'+ partial\n",
    "    dictionary={\"title\":img_title,\"img_url\":img_url}\n",
    "    \n",
    "    mars_data.append(dictionary)\n",
    "    browser.back()\n",
    "\n",
    "mars_data"
   ]
  },
  {
   "cell_type": "code",
   "execution_count": null,
   "metadata": {},
   "outputs": [],
   "source": []
  }
 ],
 "metadata": {
  "kernelspec": {
   "display_name": "Python 3",
   "language": "python",
   "name": "python3"
  },
  "language_info": {
   "codemirror_mode": {
    "name": "ipython",
    "version": 3
   },
   "file_extension": ".py",
   "mimetype": "text/x-python",
   "name": "python",
   "nbconvert_exporter": "python",
   "pygments_lexer": "ipython3",
   "version": "3.7.3"
  },
  "varInspector": {
   "cols": {
    "lenName": 16,
    "lenType": 16,
    "lenVar": 40
   },
   "kernels_config": {
    "python": {
     "delete_cmd_postfix": "",
     "delete_cmd_prefix": "del ",
     "library": "var_list.py",
     "varRefreshCmd": "print(var_dic_list())"
    },
    "r": {
     "delete_cmd_postfix": ") ",
     "delete_cmd_prefix": "rm(",
     "library": "var_list.r",
     "varRefreshCmd": "cat(var_dic_list()) "
    }
   },
   "types_to_exclude": [
    "module",
    "function",
    "builtin_function_or_method",
    "instance",
    "_Feature"
   ],
   "window_display": false
  }
 },
 "nbformat": 4,
 "nbformat_minor": 2
}
